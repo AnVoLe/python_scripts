{
 "cells": [
  {
   "cell_type": "code",
   "execution_count": 1,
   "metadata": {},
   "outputs": [],
   "source": [
    "from io_txt_data import *"
   ]
  },
  {
   "cell_type": "code",
   "execution_count": 2,
   "metadata": {},
   "outputs": [
    {
     "name": "stdout",
     "output_type": "stream",
     "text": [
      "Data read from CSV file:\n",
      "['A', 'B', 'C']\n",
      "['1', '2', '3']\n",
      "['4', '5', '6']\n",
      "['7', '8', '9']\n",
      "Data written to CSV file 'output_example\\output.csv'\n"
     ]
    },
    {
     "name": "stderr",
     "output_type": "stream",
     "text": [
      "<>:13: SyntaxWarning: invalid escape sequence '\\o'\n",
      "<>:13: SyntaxWarning: invalid escape sequence '\\o'\n",
      "C:\\Users\\volea\\AppData\\Local\\Temp\\ipykernel_18240\\2893344399.py:13: SyntaxWarning: invalid escape sequence '\\o'\n",
      "  print(\"Data written to CSV file 'output_example\\output.csv'\")\n"
     ]
    }
   ],
   "source": [
    "# Example usage:\n",
    "# Read data from CSV file\n",
    "data = read_csv(r'input_example\\input.csv')\n",
    "\n",
    "# Display the data\n",
    "print(\"Data read from CSV file:\")\n",
    "for row in data:\n",
    "    print(row)\n",
    "\n",
    "# Write data to CSV file with header\n",
    "header = ['col1', 'col2', 'col3']\n",
    "write_csv(r'output_example\\output.csv', data, header)\n",
    "print(\"Data written to CSV file 'output_example\\output.csv'\")"
   ]
  },
  {
   "cell_type": "code",
   "execution_count": 3,
   "metadata": {},
   "outputs": [],
   "source": [
    "data1=[[1],[2],[3]]\n",
    "write_csv(r'output_example\\output1.csv', data1)"
   ]
  },
  {
   "cell_type": "code",
   "execution_count": 4,
   "metadata": {},
   "outputs": [
    {
     "name": "stdout",
     "output_type": "stream",
     "text": [
      "Filtered lines:\n",
      "abc num1=123 num2=456\n",
      "abc 233\n",
      "abc 232\n",
      "abc 123\n",
      "abc d num1=4432 num2=3332"
     ]
    }
   ],
   "source": [
    "# Example usage:\n",
    "file_path = r'input_example\\input.txt'\n",
    "pattern = r'abc'  # Example pattern: Matches any line containing one or more digits\n",
    "\n",
    "filtered_lines = filter_txt_file(file_path, pattern)\n",
    "print(\"Filtered lines:\")\n",
    "for line in filtered_lines:\n",
    "    print(line, end='')"
   ]
  },
  {
   "cell_type": "code",
   "execution_count": 5,
   "metadata": {},
   "outputs": [
    {
     "name": "stdout",
     "output_type": "stream",
     "text": [
      "Lines written to file: output_example\\output.txt\n"
     ]
    }
   ],
   "source": [
    "file_path =r'output_example\\output.txt'\n",
    "\n",
    "write_lines_to_txt_file(file_path, filtered_lines)\n",
    "print(\"Lines written to file:\", file_path)"
   ]
  },
  {
   "cell_type": "code",
   "execution_count": 6,
   "metadata": {},
   "outputs": [
    {
     "name": "stdout",
     "output_type": "stream",
     "text": [
      "Extracted groups:\n",
      "['123', '456']\n",
      "['4432', '3332']\n",
      "Data written to CSV file 'pattern_output.csv'\n"
     ]
    }
   ],
   "source": [
    "# Example usage:\n",
    "file_path = r'input_example\\input.txt'\n",
    "pattern = r'num1=(\\d+)\\snum2=(\\d+)'  # Example pattern: Matches two words separated by whitespace\n",
    "groups = [1,2]  # Extract groups 1 and 2\n",
    "\n",
    "extracted_groups = find_pattern_groups_in_txt_file(file_path, pattern, groups)\n",
    "print(\"Extracted groups:\")\n",
    "for line_groups in extracted_groups:\n",
    "    print(line_groups)\n",
    "\n",
    "\n",
    "# Write data to CSV file with header\n",
    "write_csv(r'output_example\\pattern_output.csv', extracted_groups)\n",
    "print(\"Data written to CSV file 'pattern_output.csv'\")"
   ]
  }
 ],
 "metadata": {
  "kernelspec": {
   "display_name": "Python 3",
   "language": "python",
   "name": "python3"
  },
  "language_info": {
   "codemirror_mode": {
    "name": "ipython",
    "version": 3
   },
   "file_extension": ".py",
   "mimetype": "text/x-python",
   "name": "python",
   "nbconvert_exporter": "python",
   "pygments_lexer": "ipython3",
   "version": "3.12.1"
  }
 },
 "nbformat": 4,
 "nbformat_minor": 2
}
